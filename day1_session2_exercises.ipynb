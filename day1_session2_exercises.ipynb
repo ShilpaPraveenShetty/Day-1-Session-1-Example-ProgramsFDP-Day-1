{
  "nbformat": 4,
  "nbformat_minor": 0,
  "metadata": {
    "colab": {
      "name": "day1 session2 exercises.ipynb",
      "provenance": [],
      "authorship_tag": "ABX9TyNDG7d3v5G7KHIFPSVjfNzw",
      "include_colab_link": true
    },
    "kernelspec": {
      "name": "python3",
      "display_name": "Python 3"
    }
  },
  "cells": [
    {
      "cell_type": "markdown",
      "metadata": {
        "id": "view-in-github",
        "colab_type": "text"
      },
      "source": [
        "<a href=\"https://colab.research.google.com/github/ShilpaPraveenShetty/Day-1-Session-1-Example-ProgramsFDP-Day-1/blob/master/day1_session2_exercises.ipynb\" target=\"_parent\"><img src=\"https://colab.research.google.com/assets/colab-badge.svg\" alt=\"Open In Colab\"/></a>"
      ]
    },
    {
      "cell_type": "code",
      "metadata": {
        "id": "l9n3HF-KSJ7A",
        "colab_type": "code",
        "colab": {
          "base_uri": "https://localhost:8080/",
          "height": 176
        },
        "outputId": "b7b1eb51-f9d8-4d9d-dbcf-92c5eac35e19"
      },
      "source": [
        "#1. to print pattern\n",
        "n=int(input(\"Enter n\"))\n",
        "for i in range(1,n+1):\n",
        "  for j in range(i):\n",
        "    print(i+j,end=\" \")\n",
        "  print(\"\\n\")\n",
        "    "
      ],
      "execution_count": null,
      "outputs": [
        {
          "output_type": "stream",
          "text": [
            "Enter n4\n",
            "1 \n",
            "\n",
            "2 3 \n",
            "\n",
            "3 4 5 \n",
            "\n",
            "4 5 6 7 \n",
            "\n"
          ],
          "name": "stdout"
        }
      ]
    },
    {
      "cell_type": "code",
      "metadata": {
        "id": "Bt_xbNedUqBo",
        "colab_type": "code",
        "colab": {
          "base_uri": "https://localhost:8080/",
          "height": 105
        },
        "outputId": "2c71adfe-e072-4204-950f-a3ca06b85d53"
      },
      "source": [
        "#2. to print pattern\n",
        "n=5;\n",
        "for i in range(n):\n",
        "    for j in range(i):\n",
        "        print ('* ', end=\"\")\n",
        "    print('')\n"
      ],
      "execution_count": null,
      "outputs": [
        {
          "output_type": "stream",
          "text": [
            "\n",
            "* \n",
            "* * \n",
            "* * * \n",
            "* * * * \n"
          ],
          "name": "stdout"
        }
      ]
    },
    {
      "cell_type": "code",
      "metadata": {
        "id": "MOXvmDEIUs-x",
        "colab_type": "code",
        "colab": {
          "base_uri": "https://localhost:8080/",
          "height": 105
        },
        "outputId": "66a44fc3-255a-4f46-b66b-0aa223527a69"
      },
      "source": [
        "#3. to print pattern\n",
        "n=5;\n",
        "for i in range(1,n+1):\n",
        "    for j in range(i):\n",
        "        print (n+1-i+j, end=\"\")\n",
        "    print('')\n"
      ],
      "execution_count": null,
      "outputs": [
        {
          "output_type": "stream",
          "text": [
            "5\n",
            "45\n",
            "345\n",
            "2345\n",
            "12345\n"
          ],
          "name": "stdout"
        }
      ]
    },
    {
      "cell_type": "code",
      "metadata": {
        "id": "V5IlKXC3UZM_",
        "colab_type": "code",
        "colab": {
          "base_uri": "https://localhost:8080/",
          "height": 123
        },
        "outputId": "0894268a-b367-403b-d6e1-665c24342240"
      },
      "source": [
        "#4. to print pattern\n",
        "n=5;\n",
        "for i in range(0,n+1):\n",
        "    for j in range(n-i):\n",
        "        print (n-j, end=\"\")\n",
        "    print('')"
      ],
      "execution_count": null,
      "outputs": [
        {
          "output_type": "stream",
          "text": [
            "54321\n",
            "5432\n",
            "543\n",
            "54\n",
            "5\n",
            "\n"
          ],
          "name": "stdout"
        }
      ]
    },
    {
      "cell_type": "code",
      "metadata": {
        "id": "jFrHbqa2ADMo",
        "colab_type": "code",
        "colab": {
          "base_uri": "https://localhost:8080/",
          "height": 141
        },
        "outputId": "633d56f4-28ef-4f4f-a2da-6c7368ab0904"
      },
      "source": [
        "#5. to print patternn=4;\n",
        "for i in range(1,n+1):\n",
        "    for j in range(i,n+1):\n",
        "        print (j, end=\" #2. to print pattern\")\n",
        "    print('')\n",
        "for i in range(1,n):\n",
        "  for j in range(i+1):\n",
        "    print(n-i+j,end=\" \")\n",
        "  print('')\n",
        "       "
      ],
      "execution_count": null,
      "outputs": [
        {
          "output_type": "stream",
          "text": [
            "1 2 3 4 \n",
            "2 3 4 \n",
            "3 4 \n",
            "4 \n",
            "3 4 \n",
            "2 3 4 \n",
            "1 2 3 4 \n"
          ],
          "name": "stdout"
        }
      ]
    },
    {
      "cell_type": "code",
      "metadata": {
        "id": "EzO9Q2j7C5zQ",
        "colab_type": "code",
        "colab": {
          "base_uri": "https://localhost:8080/",
          "height": 52
        },
        "outputId": "642c17d9-37f4-48ea-f7ba-d39412aa9a1e"
      },
      "source": [
        "#6 no of characetrs\n",
        "count=0\n",
        "for i in s:\n",
        "  count=count+1\n",
        "print(count)"
      ],
      "execution_count": null,
      "outputs": [
        {
          "output_type": "stream",
          "text": [
            "Enter a stringhi hello\n",
            "8\n"
          ],
          "name": "stdout"
        }
      ]
    },
    {
      "cell_type": "code",
      "metadata": {
        "id": "XUvl1lTtDbjl",
        "colab_type": "code",
        "colab": {
          "base_uri": "https://localhost:8080/",
          "height": 105
        },
        "outputId": "07a0ad64-1e1f-49b4-d6a1-e0517159280a"
      },
      "source": [
        "#7 number of words and characters\n",
        "string=input(\"Enter a string\")\n",
        "char=0\n",
        "word=1\n",
        "for i in string:\n",
        "      char=char+1\n",
        "      if(i==' '):\n",
        "            word=word+1\n",
        "print(\"Number of words in the string:\")\n",
        "print(word)\n",
        "print(\"Number of characters in the string:\")\n",
        "print(char)"
      ],
      "execution_count": null,
      "outputs": [
        {
          "output_type": "stream",
          "text": [
            "Enter a stringhi hh\n",
            "Number of words in the string:\n",
            "2\n",
            "Number of characters in the string:\n",
            "5\n"
          ],
          "name": "stdout"
        }
      ]
    },
    {
      "cell_type": "code",
      "metadata": {
        "id": "1SfsuLl7EaTj",
        "colab_type": "code",
        "colab": {
          "base_uri": "https://localhost:8080/",
          "height": 70
        },
        "outputId": "38be3db0-e91b-43a5-a5d7-7836bdaf6156"
      },
      "source": [
        "#8 nu m of occurences of a word\n",
        "s=input(\"Enter a string\")\n",
        "w=input(\"Enter the word\")\n",
        "c=0\n",
        "l=s.split()\n",
        "for i in l:\n",
        "  if w==i:\n",
        "    c=c+1\n",
        "print(c)"
      ],
      "execution_count": null,
      "outputs": [
        {
          "output_type": "stream",
          "text": [
            "Enter a stringhi hi how hi\n",
            "Enter the wordhi\n",
            "3\n"
          ],
          "name": "stdout"
        }
      ]
    }
  ]
}